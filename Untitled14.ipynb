{
 "cells": [
  {
   "cell_type": "code",
   "execution_count": 1,
   "metadata": {},
   "outputs": [
    {
     "name": "stderr",
     "output_type": "stream",
     "text": [
      "Using TensorFlow backend.\n"
     ]
    }
   ],
   "source": [
    "import numpy as np\n",
    "import pandas as pd\n",
    "import matplotlib as m\n",
    "import matplotlib.pyplot as plt\n",
    "from sklearn.model_selection import train_test_split\n",
    "from keras.utils import to_categorical\n",
    "from keras.models import Sequential\n",
    "from keras.layers import Dense, Dropout, Activation, Flatten, Conv2D, MaxPool2D\n",
    "import keras"
   ]
  },
  {
   "cell_type": "code",
   "execution_count": 2,
   "metadata": {},
   "outputs": [],
   "source": [
    "X = pd.read_pickle(\"Assignment3/trainX.pickle\")"
   ]
  },
  {
   "cell_type": "code",
   "execution_count": 3,
   "metadata": {},
   "outputs": [],
   "source": [
    "Y = pd.read_pickle(\"Assignment3/trainY.pickle\")"
   ]
  },
  {
   "cell_type": "code",
   "execution_count": 4,
   "metadata": {},
   "outputs": [
    {
     "data": {
      "text/plain": [
       "<matplotlib.image.AxesImage at 0x7f1cbc95bb70>"
      ]
     },
     "execution_count": 4,
     "metadata": {},
     "output_type": "execute_result"
    },
    {
     "data": {
      "image/png": "[encoded data removed]",
      "text/plain": [
       "<Figure size 432x288 with 1 Axes>"
      ]
     },
     "metadata": {
      "needs_background": "light"
     },
     "output_type": "display_data"
    }
   ],
   "source": [
    "plt.imshow(X[410])"
   ]
  },
  {
   "cell_type": "code",
   "execution_count": 5,
   "metadata": {},
   "outputs": [
    {
     "data": {
      "text/plain": [
       "6"
      ]
     },
     "execution_count": 5,
     "metadata": {},
     "output_type": "execute_result"
    }
   ],
   "source": [
    "Y[410]"
   ]
  },
  {
   "cell_type": "code",
   "execution_count": 6,
   "metadata": {},
   "outputs": [],
   "source": [
    "#model work"
   ]
  },
  {
   "cell_type": "code",
   "execution_count": 7,
   "metadata": {},
   "outputs": [],
   "source": [
    "X = np.array(X, dtype='float32')\n",
    "X /= 255\n",
    "Y = to_categorical(Y)"
   ]
  },
  {
   "cell_type": "code",
   "execution_count": 8,
   "metadata": {},
   "outputs": [],
   "source": [
    "X_train, X_validate, Y_train, Y_validate = train_test_split(X, Y, random_state=1)"
   ]
  },
  {
   "cell_type": "code",
   "execution_count": 9,
   "metadata": {},
   "outputs": [],
   "source": [
    "im_rows = 28\n",
    "im_cols = 28\n",
    "\n",
    "batch_size = 512\n",
    "epochs = 50\n",
    "\n",
    "im_shape = (im_rows, im_rows, 1)"
   ]
  },
  {
   "cell_type": "code",
   "execution_count": 10,
   "metadata": {},
   "outputs": [],
   "source": [
    "X_train = X_train.reshape(X_train.shape[0], *im_shape)\n",
    "X_validate = X_validate.reshape(X_validate.shape[0], *im_shape)"
   ]
  },
  {
   "cell_type": "code",
   "execution_count": 11,
   "metadata": {},
   "outputs": [
    {
     "name": "stderr",
     "output_type": "stream",
     "text": [
      "WARNING: Logging before flag parsing goes to stderr.\n",
      "W0621 15:13:29.472573 139762789467968 deprecation_wrapper.py:119] From /usr/local/lib/python3.7/dist-packages/keras/backend/tensorflow_backend.py:74: The name tf.get_default_graph is deprecated. Please use tf.compat.v1.get_default_graph instead.\n",
      "\n",
      "W0621 15:13:29.490623 139762789467968 deprecation_wrapper.py:119] From /usr/local/lib/python3.7/dist-packages/keras/backend/tensorflow_backend.py:517: The name tf.placeholder is deprecated. Please use tf.compat.v1.placeholder instead.\n",
      "\n",
      "W0621 15:13:29.495064 139762789467968 deprecation_wrapper.py:119] From /usr/local/lib/python3.7/dist-packages/keras/backend/tensorflow_backend.py:4185: The name tf.truncated_normal is deprecated. Please use tf.random.truncated_normal instead.\n",
      "\n",
      "W0621 15:13:29.519265 139762789467968 deprecation_wrapper.py:119] From /usr/local/lib/python3.7/dist-packages/keras/backend/tensorflow_backend.py:3976: The name tf.nn.max_pool is deprecated. Please use tf.nn.max_pool2d instead.\n",
      "\n",
      "W0621 15:13:29.523395 139762789467968 deprecation_wrapper.py:119] From /usr/local/lib/python3.7/dist-packages/keras/backend/tensorflow_backend.py:133: The name tf.placeholder_with_default is deprecated. Please use tf.compat.v1.placeholder_with_default instead.\n",
      "\n",
      "W0621 15:13:29.534251 139762789467968 deprecation.py:506] From /usr/local/lib/python3.7/dist-packages/keras/backend/tensorflow_backend.py:3445: calling dropout (from tensorflow.python.ops.nn_ops) with keep_prob is deprecated and will be removed in a future version.\n",
      "Instructions for updating:\n",
      "Please use `rate` instead of `keep_prob`. Rate should be set to `rate = 1 - keep_prob`.\n",
      "W0621 15:13:29.562961 139762789467968 deprecation_wrapper.py:119] From /usr/local/lib/python3.7/dist-packages/keras/backend/tensorflow_backend.py:4138: The name tf.random_uniform is deprecated. Please use tf.random.uniform instead.\n",
      "\n"
     ]
    }
   ],
   "source": [
    "# 3 layer CNN\n",
    "\n",
    "cnn_model_3 = Sequential()\n",
    "cnn_model_3.add(Conv2D(32, kernel_size=3, activation='relu', input_shape=im_shape, kernel_initializer='he_normal', name='Conv2D-1'))\n",
    "cnn_model_3.add(MaxPool2D(pool_size=2, name=\"MaxPool\"))\n",
    "cnn_model_3.add(Dropout(0.2, name=\"dropout-1\"))\n",
    "cnn_model_3.add(Conv2D(64, kernel_size=3, activation='relu', name='Conv2D-2'))\n",
    "cnn_model_3.add(Dropout(0.3, name=\"dropout-2\"))\n",
    "cnn_model_3.add(Conv2D(128, kernel_size=3, activation='relu', name='Conv2D-3'))\n",
    "cnn_model_3.add(Dropout(0.4, name=\"dropout-3\"))\n",
    "cnn_model_3.add(Flatten(name=\"Flatten\"))\n",
    "cnn_model_3.add(Dense(128, activation='relu', name=\"Dense\"))\n",
    "cnn_model_3.add(Dropout(0.4, name=\"dropout\"))\n",
    "cnn_model_3.add(Dense(10, activation='softmax', name=\"output\"))"
   ]
  },
  {
   "cell_type": "code",
   "execution_count": 12,
   "metadata": {},
   "outputs": [
    {
     "name": "stdout",
     "output_type": "stream",
     "text": [
      "_________________________________________________________________\n",
      "Layer (type)                 Output Shape              Param #   \n",
      "=================================================================\n",
      "Conv2D-1 (Conv2D)            (None, 26, 26, 32)        320       \n",
      "_________________________________________________________________\n",
      "MaxPool (MaxPooling2D)       (None, 13, 13, 32)        0         \n",
      "_________________________________________________________________\n",
      "dropout-1 (Dropout)          (None, 13, 13, 32)        0         \n",
      "_________________________________________________________________\n",
      "Conv2D-2 (Conv2D)            (None, 11, 11, 64)        18496     \n",
      "_________________________________________________________________\n",
      "dropout-2 (Dropout)          (None, 11, 11, 64)        0         \n",
      "_________________________________________________________________\n",
      "Conv2D-3 (Conv2D)            (None, 9, 9, 128)         73856     \n",
      "_________________________________________________________________\n",
      "dropout-3 (Dropout)          (None, 9, 9, 128)         0         \n",
      "_________________________________________________________________\n",
      "Flatten (Flatten)            (None, 10368)             0         \n",
      "_________________________________________________________________\n",
      "Dense (Dense)                (None, 128)               1327232   \n",
      "_________________________________________________________________\n",
      "dropout (Dropout)            (None, 128)               0         \n",
      "_________________________________________________________________\n",
      "output (Dense)               (None, 10)                1290      \n",
      "=================================================================\n",
      "Total params: 1,421,194\n",
      "Trainable params: 1,421,194\n",
      "Non-trainable params: 0\n",
      "_________________________________________________________________\n"
     ]
    }
   ],
   "source": [
    "cnn_model_3.summary()"
   ]
  },
  {
   "cell_type": "code",
   "execution_count": 13,
   "metadata": {},
   "outputs": [
    {
     "name": "stderr",
     "output_type": "stream",
     "text": [
      "W0621 15:13:35.228024 139762789467968 deprecation_wrapper.py:119] From /usr/local/lib/python3.7/dist-packages/keras/optimizers.py:790: The name tf.train.Optimizer is deprecated. Please use tf.compat.v1.train.Optimizer instead.\n",
      "\n"
     ]
    }
   ],
   "source": [
    "cnn_model_3.compile(loss=keras.losses.categorical_crossentropy, optimizer=keras.optimizers.Adadelta(), metrics=['accuracy'])"
   ]
  },
  {
   "cell_type": "code",
   "execution_count": 14,
   "metadata": {},
   "outputs": [
    {
     "name": "stderr",
     "output_type": "stream",
     "text": [
      "W0621 15:13:36.271937 139762789467968 deprecation.py:323] From /usr/local/lib/python3.7/dist-packages/tensorflow/python/ops/math_grad.py:1250: add_dispatch_support.<locals>.wrapper (from tensorflow.python.ops.array_ops) is deprecated and will be removed in a future version.\n",
      "Instructions for updating:\n",
      "Use tf.where in 2.0, which has the same broadcast rule as np.where\n"
     ]
    },
    {
     "name": "stdout",
     "output_type": "stream",
     "text": [
      "Train on 45000 samples, validate on 15000 samples\n",
      "Epoch 1/50\n",
      "45000/45000 [==============================] - 66s 1ms/step - loss: 0.9497 - acc: 0.6577 - val_loss: 0.5301 - val_acc: 0.7995\n",
      "Epoch 2/50\n",
      "45000/45000 [==============================] - 67s 1ms/step - loss: 0.5430 - acc: 0.7993 - val_loss: 0.4930 - val_acc: 0.8203\n",
      "Epoch 3/50\n",
      "45000/45000 [==============================] - 69s 2ms/step - loss: 0.4604 - acc: 0.8313 - val_loss: 0.3750 - val_acc: 0.8626\n",
      "Epoch 4/50\n",
      "45000/45000 [==============================] - 63s 1ms/step - loss: 0.4145 - acc: 0.8485 - val_loss: 0.3441 - val_acc: 0.8743\n",
      "Epoch 5/50\n",
      "45000/45000 [==============================] - 73s 2ms/step - loss: 0.3823 - acc: 0.8602 - val_loss: 0.3106 - val_acc: 0.8834\n",
      "Epoch 6/50\n",
      "45000/45000 [==============================] - 63s 1ms/step - loss: 0.3535 - acc: 0.8709 - val_loss: 0.3012 - val_acc: 0.8880\n",
      "Epoch 7/50\n",
      "45000/45000 [==============================] - 63s 1ms/step - loss: 0.3323 - acc: 0.8793 - val_loss: 0.2865 - val_acc: 0.8943\n",
      "Epoch 8/50\n",
      "45000/45000 [==============================] - 63s 1ms/step - loss: 0.3182 - acc: 0.8820 - val_loss: 0.2937 - val_acc: 0.8897\n",
      "Epoch 9/50\n",
      "45000/45000 [==============================] - 65s 1ms/step - loss: 0.3047 - acc: 0.8886 - val_loss: 0.2694 - val_acc: 0.8981\n",
      "Epoch 10/50\n",
      "45000/45000 [==============================] - 64s 1ms/step - loss: 0.2888 - acc: 0.8951 - val_loss: 0.2609 - val_acc: 0.9010\n",
      "Epoch 11/50\n",
      "45000/45000 [==============================] - 62s 1ms/step - loss: 0.2805 - acc: 0.8962 - val_loss: 0.2556 - val_acc: 0.9055\n",
      "Epoch 12/50\n",
      "45000/45000 [==============================] - 63s 1ms/step - loss: 0.2667 - acc: 0.9007 - val_loss: 0.2492 - val_acc: 0.9068\n",
      "Epoch 13/50\n",
      "45000/45000 [==============================] - 63s 1ms/step - loss: 0.2598 - acc: 0.9046 - val_loss: 0.2514 - val_acc: 0.9067\n",
      "Epoch 14/50\n",
      "45000/45000 [==============================] - 63s 1ms/step - loss: 0.2505 - acc: 0.9066 - val_loss: 0.2427 - val_acc: 0.9108\n",
      "Epoch 15/50\n",
      "45000/45000 [==============================] - 63s 1ms/step - loss: 0.2399 - acc: 0.9110 - val_loss: 0.2493 - val_acc: 0.9077\n",
      "Epoch 16/50\n",
      "45000/45000 [==============================] - 63s 1ms/step - loss: 0.2364 - acc: 0.9125 - val_loss: 0.2457 - val_acc: 0.9099\n",
      "Epoch 17/50\n",
      "45000/45000 [==============================] - 63s 1ms/step - loss: 0.2266 - acc: 0.9155 - val_loss: 0.2403 - val_acc: 0.9113\n",
      "Epoch 18/50\n",
      "45000/45000 [==============================] - 63s 1ms/step - loss: 0.2247 - acc: 0.9156 - val_loss: 0.2386 - val_acc: 0.9139\n",
      "Epoch 19/50\n",
      "45000/45000 [==============================] - 63s 1ms/step - loss: 0.2129 - acc: 0.9214 - val_loss: 0.2340 - val_acc: 0.9137\n",
      "Epoch 20/50\n",
      "45000/45000 [==============================] - 63s 1ms/step - loss: 0.2128 - acc: 0.9209 - val_loss: 0.2236 - val_acc: 0.9187\n",
      "Epoch 21/50\n",
      "45000/45000 [==============================] - 63s 1ms/step - loss: 0.2071 - acc: 0.9218 - val_loss: 0.2297 - val_acc: 0.9171\n",
      "Epoch 22/50\n",
      "45000/45000 [==============================] - 67s 1ms/step - loss: 0.2026 - acc: 0.9242 - val_loss: 0.2312 - val_acc: 0.9144\n",
      "Epoch 23/50\n",
      "45000/45000 [==============================] - 63s 1ms/step - loss: 0.1965 - acc: 0.9257 - val_loss: 0.2236 - val_acc: 0.9217\n",
      "Epoch 24/50\n",
      "45000/45000 [==============================] - 63s 1ms/step - loss: 0.1901 - acc: 0.9279 - val_loss: 0.2194 - val_acc: 0.9211\n",
      "Epoch 25/50\n",
      "45000/45000 [==============================] - 63s 1ms/step - loss: 0.1884 - acc: 0.9297 - val_loss: 0.2239 - val_acc: 0.9209\n",
      "Epoch 26/50\n",
      "45000/45000 [==============================] - 63s 1ms/step - loss: 0.1831 - acc: 0.9318 - val_loss: 0.2186 - val_acc: 0.9243\n",
      "Epoch 27/50\n",
      "45000/45000 [==============================] - 63s 1ms/step - loss: 0.1818 - acc: 0.9330 - val_loss: 0.2208 - val_acc: 0.9248\n",
      "Epoch 28/50\n",
      "45000/45000 [==============================] - 63s 1ms/step - loss: 0.1747 - acc: 0.9336 - val_loss: 0.2345 - val_acc: 0.9154\n",
      "Epoch 29/50\n",
      "45000/45000 [==============================] - 63s 1ms/step - loss: 0.1743 - acc: 0.9335 - val_loss: 0.2102 - val_acc: 0.9271\n",
      "Epoch 30/50\n",
      "45000/45000 [==============================] - 63s 1ms/step - loss: 0.1693 - acc: 0.9356 - val_loss: 0.2271 - val_acc: 0.9239\n",
      "Epoch 31/50\n",
      "45000/45000 [==============================] - 63s 1ms/step - loss: 0.1639 - acc: 0.9379 - val_loss: 0.2166 - val_acc: 0.9251\n",
      "Epoch 32/50\n",
      "45000/45000 [==============================] - 63s 1ms/step - loss: 0.1622 - acc: 0.9385 - val_loss: 0.2163 - val_acc: 0.9255\n",
      "Epoch 33/50\n",
      "45000/45000 [==============================] - 63s 1ms/step - loss: 0.1608 - acc: 0.9389 - val_loss: 0.2156 - val_acc: 0.9251\n",
      "Epoch 34/50\n",
      "45000/45000 [==============================] - 63s 1ms/step - loss: 0.1565 - acc: 0.9410 - val_loss: 0.2146 - val_acc: 0.9264\n",
      "Epoch 35/50\n",
      "45000/45000 [==============================] - 62s 1ms/step - loss: 0.1553 - acc: 0.9407 - val_loss: 0.2086 - val_acc: 0.9268\n",
      "Epoch 36/50\n",
      "45000/45000 [==============================] - 66s 1ms/step - loss: 0.1503 - acc: 0.9429 - val_loss: 0.2228 - val_acc: 0.9281\n",
      "Epoch 37/50\n",
      "45000/45000 [==============================] - 64s 1ms/step - loss: 0.1491 - acc: 0.9431 - val_loss: 0.2184 - val_acc: 0.9267\n",
      "Epoch 38/50\n",
      "45000/45000 [==============================] - 63s 1ms/step - loss: 0.1465 - acc: 0.9425 - val_loss: 0.2205 - val_acc: 0.9283\n",
      "Epoch 39/50\n",
      "45000/45000 [==============================] - 65s 1ms/step - loss: 0.1422 - acc: 0.9465 - val_loss: 0.2288 - val_acc: 0.9265\n",
      "Epoch 40/50\n",
      "45000/45000 [==============================] - 62s 1ms/step - loss: 0.1397 - acc: 0.9472 - val_loss: 0.2183 - val_acc: 0.9261\n",
      "Epoch 41/50\n",
      "45000/45000 [==============================] - 62s 1ms/step - loss: 0.1383 - acc: 0.9464 - val_loss: 0.2243 - val_acc: 0.9265\n",
      "Epoch 42/50\n",
      "45000/45000 [==============================] - 62s 1ms/step - loss: 0.1351 - acc: 0.9484 - val_loss: 0.2322 - val_acc: 0.9239\n",
      "Epoch 43/50\n",
      "45000/45000 [==============================] - 64s 1ms/step - loss: 0.1360 - acc: 0.9485 - val_loss: 0.2241 - val_acc: 0.9281\n",
      "Epoch 44/50\n",
      "45000/45000 [==============================] - 63s 1ms/step - loss: 0.1330 - acc: 0.9498 - val_loss: 0.2321 - val_acc: 0.9269\n",
      "Epoch 45/50\n",
      "45000/45000 [==============================] - 63s 1ms/step - loss: 0.1299 - acc: 0.9496 - val_loss: 0.2282 - val_acc: 0.9244\n",
      "Epoch 46/50\n",
      "45000/45000 [==============================] - 63s 1ms/step - loss: 0.1285 - acc: 0.9509 - val_loss: 0.2329 - val_acc: 0.9261\n",
      "Epoch 47/50\n",
      "45000/45000 [==============================] - 62s 1ms/step - loss: 0.1257 - acc: 0.9524 - val_loss: 0.2184 - val_acc: 0.9309\n",
      "Epoch 48/50\n",
      "45000/45000 [==============================] - 62s 1ms/step - loss: 0.1221 - acc: 0.9522 - val_loss: 0.2220 - val_acc: 0.9292\n",
      "Epoch 49/50\n",
      "45000/45000 [==============================] - 62s 1ms/step - loss: 0.1231 - acc: 0.9534 - val_loss: 0.2196 - val_acc: 0.9293\n",
      "Epoch 50/50\n",
      "45000/45000 [==============================] - 63s 1ms/step - loss: 0.1204 - acc: 0.9539 - val_loss: 0.2220 - val_acc: 0.9293\n"
     ]
    },
    {
     "ename": "NameError",
     "evalue": "name 'model' is not defined",
     "output_type": "error",
     "traceback": [
      "\u001b[0;31m---------------------------------------------------------------------------\u001b[0m",
      "\u001b[0;31mNameError\u001b[0m                                 Traceback (most recent call last)",
      "\u001b[0;32m<ipython-input-14-56ca5b5daade>\u001b[0m in \u001b[0;36m<module>\u001b[0;34m\u001b[0m\n\u001b[1;32m      2\u001b[0m \u001b[0;34m\u001b[0m\u001b[0m\n\u001b[1;32m      3\u001b[0m \u001b[0;34m\u001b[0m\u001b[0m\n\u001b[0;32m----> 4\u001b[0;31m \u001b[0mscore\u001b[0m \u001b[0;34m=\u001b[0m \u001b[0mmodel\u001b[0m\u001b[0;34m.\u001b[0m\u001b[0mevaluate\u001b[0m\u001b[0;34m(\u001b[0m\u001b[0mx_test\u001b[0m\u001b[0;34m,\u001b[0m \u001b[0my_test\u001b[0m\u001b[0;34m,\u001b[0m \u001b[0mverbose\u001b[0m\u001b[0;34m=\u001b[0m\u001b[0;36m0\u001b[0m\u001b[0;34m)\u001b[0m\u001b[0;34m\u001b[0m\u001b[0;34m\u001b[0m\u001b[0m\n\u001b[0m\u001b[1;32m      5\u001b[0m \u001b[0mprint\u001b[0m\u001b[0;34m(\u001b[0m\u001b[0;34m\"Test loss : \"\u001b[0m\u001b[0;34m,\u001b[0m \u001b[0mscore\u001b[0m\u001b[0;34m[\u001b[0m\u001b[0;36m0\u001b[0m\u001b[0;34m]\u001b[0m\u001b[0;34m)\u001b[0m\u001b[0;34m\u001b[0m\u001b[0;34m\u001b[0m\u001b[0m\n\u001b[1;32m      6\u001b[0m \u001b[0mprint\u001b[0m\u001b[0;34m(\u001b[0m\u001b[0;34m\"Test accuracy : \"\u001b[0m\u001b[0;34m,\u001b[0m \u001b[0mscore\u001b[0m\u001b[0;34m[\u001b[0m\u001b[0;36m1\u001b[0m\u001b[0;34m]\u001b[0m\u001b[0;34m)\u001b[0m\u001b[0;34m\u001b[0m\u001b[0;34m\u001b[0m\u001b[0m\n",
      "\u001b[0;31mNameError\u001b[0m: name 'model' is not defined"
     ]
    }
   ],
   "source": [
    "history = cnn_model_3.fit(X_train, Y_train, batch_size=batch_size, epochs=epochs, verbose=1, validation_data=(X_validate, Y_validate))"
   ]
  },
  {
   "cell_type": "code",
   "execution_count": 15,
   "metadata": {
    "scrolled": true
   },
   "outputs": [
    {
     "ename": "NameError",
     "evalue": "name 'x_test' is not defined",
     "output_type": "error",
     "traceback": [
      "\u001b[0;31m---------------------------------------------------------------------------\u001b[0m",
      "\u001b[0;31mNameError\u001b[0m                                 Traceback (most recent call last)",
      "\u001b[0;32m<ipython-input-15-ab73ad3ddecf>\u001b[0m in \u001b[0;36m<module>\u001b[0;34m\u001b[0m\n\u001b[0;32m----> 1\u001b[0;31m \u001b[0mscore\u001b[0m \u001b[0;34m=\u001b[0m \u001b[0mcnn_model_3\u001b[0m\u001b[0;34m.\u001b[0m\u001b[0mevaluate\u001b[0m\u001b[0;34m(\u001b[0m\u001b[0mx_test\u001b[0m\u001b[0;34m,\u001b[0m \u001b[0my_test\u001b[0m\u001b[0;34m,\u001b[0m \u001b[0mverbose\u001b[0m\u001b[0;34m=\u001b[0m\u001b[0;36m0\u001b[0m\u001b[0;34m)\u001b[0m\u001b[0;34m\u001b[0m\u001b[0;34m\u001b[0m\u001b[0m\n\u001b[0m\u001b[1;32m      2\u001b[0m \u001b[0mprint\u001b[0m\u001b[0;34m(\u001b[0m\u001b[0;34m\"Test loss : \"\u001b[0m\u001b[0;34m,\u001b[0m \u001b[0mscore\u001b[0m\u001b[0;34m[\u001b[0m\u001b[0;36m0\u001b[0m\u001b[0;34m]\u001b[0m\u001b[0;34m)\u001b[0m\u001b[0;34m\u001b[0m\u001b[0;34m\u001b[0m\u001b[0m\n\u001b[1;32m      3\u001b[0m \u001b[0mprint\u001b[0m\u001b[0;34m(\u001b[0m\u001b[0;34m\"Test accuracy : \"\u001b[0m\u001b[0;34m,\u001b[0m \u001b[0mscore\u001b[0m\u001b[0;34m[\u001b[0m\u001b[0;36m1\u001b[0m\u001b[0;34m]\u001b[0m\u001b[0;34m)\u001b[0m\u001b[0;34m\u001b[0m\u001b[0;34m\u001b[0m\u001b[0m\n",
      "\u001b[0;31mNameError\u001b[0m: name 'x_test' is not defined"
     ]
    }
   ],
   "source": [
    "#score = cnn_model_3.evaluate(x_test, y_test, verbose=0)\n",
    "#print(\"Test loss : \", score[0])\n",
    "#print(\"Test accuracy : \", score[1])"
   ]
  },
  {
   "cell_type": "code",
   "execution_count": 25,
   "metadata": {
    "scrolled": true
   },
   "outputs": [
    {
     "ename": "AttributeError",
     "evalue": "'AxesSubplot' object has no attribute 'lagend'",
     "output_type": "error",
     "traceback": [
      "\u001b[0;31m---------------------------------------------------------------------------\u001b[0m",
      "\u001b[0;31mAttributeError\u001b[0m                            Traceback (most recent call last)",
      "\u001b[0;32m<ipython-input-25-a8be273e4fd4>\u001b[0m in \u001b[0;36m<module>\u001b[0;34m\u001b[0m\n\u001b[1;32m     10\u001b[0m \u001b[0max2\u001b[0m\u001b[0;34m.\u001b[0m\u001b[0mset_xlabel\u001b[0m\u001b[0;34m(\u001b[0m\u001b[0;34m\"epochs\"\u001b[0m\u001b[0;34m)\u001b[0m\u001b[0;34m\u001b[0m\u001b[0;34m\u001b[0m\u001b[0m\n\u001b[1;32m     11\u001b[0m \u001b[0;34m\u001b[0m\u001b[0m\n\u001b[0;32m---> 12\u001b[0;31m \u001b[0max1\u001b[0m\u001b[0;34m.\u001b[0m\u001b[0mlagend\u001b[0m\u001b[0;34m(\u001b[0m\u001b[0;34m)\u001b[0m\u001b[0;34m\u001b[0m\u001b[0;34m\u001b[0m\u001b[0m\n\u001b[0m\u001b[1;32m     13\u001b[0m \u001b[0max2\u001b[0m\u001b[0;34m.\u001b[0m\u001b[0mlegend\u001b[0m\u001b[0;34m(\u001b[0m\u001b[0;34m)\u001b[0m\u001b[0;34m\u001b[0m\u001b[0;34m\u001b[0m\u001b[0m\n\u001b[1;32m     14\u001b[0m \u001b[0mplt\u001b[0m\u001b[0;34m.\u001b[0m\u001b[0mshow\u001b[0m\u001b[0;34m(\u001b[0m\u001b[0;34m)\u001b[0m\u001b[0;34m\u001b[0m\u001b[0;34m\u001b[0m\u001b[0m\n",
      "\u001b[0;31mAttributeError\u001b[0m: 'AxesSubplot' object has no attribute 'lagend'"
     ]
    },
    {
     "data": {
      "image/png": "[encoded data removed]",
      "text/plain": [
       "<Figure size 576x432 with 2 Axes>"
      ]
     },
     "metadata": {
      "needs_background": "light"
     },
     "output_type": "display_data"
    }
   ],
   "source": [
    "fig, (ax1, ax2) = plt.subplots(2, figsize=(8,6))\n",
    "\n",
    "val_acc = history.history['val_acc']\n",
    "val_loss = history.history['val_loss']\n",
    "ax1.plot(val_acc, label=history)\n",
    "ax2.plot(val_loss, label=history)\n",
    "\n",
    "ax1.set_ylabel(\"validation accuracy\")\n",
    "ax2.set_ylabel(\"validation loss\")\n",
    "ax2.set_xlabel(\"epochs\")\n",
    "\n",
    "ax1.lagend()\n",
    "ax2.legend()\n",
    "plt.show()"
   ]
  },
  {
   "cell_type": "code",
   "execution_count": 26,
   "metadata": {},
   "outputs": [],
   "source": [
    "cnn_model_3.save(\"CNN_3.hdf5\")"
   ]
  }
 ],
 "metadata": {
  "kernelspec": {
   "display_name": "Python 3",
   "language": "python",
   "name": "python3"
  },
  "language_info": {
   "codemirror_mode": {
    "name": "ipython",
    "version": 3
   },
   "file_extension": ".py",
   "mimetype": "text/x-python",
   "name": "python",
   "nbconvert_exporter": "python",
   "pygments_lexer": "ipython3",
   "version": "3.7.3"
  }
 },
 "nbformat": 4,
 "nbformat_minor": 2
}
